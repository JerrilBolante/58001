{
  "nbformat": 4,
  "nbformat_minor": 0,
  "metadata": {
    "colab": {
      "provenance": [],
      "authorship_tag": "ABX9TyPLIHk1JnJv/3UYmz2jZs6K",
      "include_colab_link": true
    },
    "kernelspec": {
      "name": "python3",
      "display_name": "Python 3"
    },
    "language_info": {
      "name": "python"
    }
  },
  "cells": [
    {
      "cell_type": "markdown",
      "metadata": {
        "id": "view-in-github",
        "colab_type": "text"
      },
      "source": [
        "<a href=\"https://colab.research.google.com/github/JerrilBolante/OOP58001/blob/main/Lab_Activity_1.ipynb\" target=\"_parent\"><img src=\"https://colab.research.google.com/assets/colab-badge.svg\" alt=\"Open In Colab\"/></a>"
      ]
    },
    {
      "cell_type": "code",
      "execution_count": 15,
      "metadata": {
        "colab": {
          "base_uri": "https://localhost:8080/"
        },
        "id": "TApvi9IbHAmS",
        "outputId": "1255f4a4-d0c5-4bb2-885c-2b086f8c4945"
      },
      "outputs": [
        {
          "output_type": "stream",
          "name": "stdout",
          "text": [
            "sum= 19\n",
            "sum= 18\n",
            "sum= 17\n",
            "sum= 16\n",
            "sum= 15\n",
            "sum= 14\n",
            "sum= 13\n",
            "sum= 12\n",
            "sum= 11\n",
            "sum= 10\n",
            "sum= 9\n",
            "sum= 8\n",
            "sum= 7\n",
            "sum= 6\n",
            "sum= 5\n",
            "sum= 4\n",
            "sum= 3\n",
            "sum= 2\n",
            "sum= 1\n",
            "sum= 0\n",
            "sum= -1\n",
            "Average 10.5\n"
          ]
        }
      ],
      "source": [
        "n = 20\n",
        "tnumbers = n\n",
        "sum = 0\n",
        "average = 0\n",
        "\n",
        "while n>= 0:\n",
        "  sum+=n\n",
        "  n-=1\n",
        "  print(\"sum=\", n)\n",
        "\n",
        "average = sum/tnumbers\n",
        "print(\"Average\", average)\n",
        "\n",
        "\n"
      ]
    }
  ]
}