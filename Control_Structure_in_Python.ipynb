{
  "nbformat": 4,
  "nbformat_minor": 0,
  "metadata": {
    "colab": {
      "provenance": [],
      "authorship_tag": "ABX9TyMZmGztuIPrmxwsKBDchsdC",
      "include_colab_link": true
    },
    "kernelspec": {
      "name": "python3",
      "display_name": "Python 3"
    },
    "language_info": {
      "name": "python"
    }
  },
  "cells": [
    {
      "cell_type": "markdown",
      "metadata": {
        "id": "view-in-github",
        "colab_type": "text"
      },
      "source": [
        "<a href=\"https://colab.research.google.com/github/JerrilBolante/OOP58001/blob/main/Control_Structure_in_Python.ipynb\" target=\"_parent\"><img src=\"https://colab.research.google.com/assets/colab-badge.svg\" alt=\"Open In Colab\"/></a>"
      ]
    },
    {
      "cell_type": "code",
      "execution_count": 8,
      "metadata": {
        "colab": {
          "base_uri": "https://localhost:8080/"
        },
        "id": "TCM_B1ZwDl1D",
        "outputId": "a34a7e18-dd29-46f1-e4ab-79f170db4a58"
      },
      "outputs": [
        {
          "output_type": "stream",
          "name": "stdout",
          "text": [
            "b is greater than a\n"
          ]
        }
      ],
      "source": [
        "\n",
        "a = 12\n",
        "b = 100\n",
        "\n",
        "if  b>a:\n",
        "  print(\"b is greater than a\")\n",
        "\n"
      ]
    },
    {
      "cell_type": "markdown",
      "source": [
        "Elif Statements"
      ],
      "metadata": {
        "id": "Qe5CNVpKE-gU"
      }
    },
    {
      "cell_type": "code",
      "source": [
        "a = 100\n",
        "b = 100\n",
        "if b > a:\n",
        "  print(\"b is greater than a\")\n",
        "elif a==b:\n",
        "  print(\"a and b are equal\")"
      ],
      "metadata": {
        "id": "OdIpnLuzNTnI"
      },
      "execution_count": null,
      "outputs": []
    },
    {
      "cell_type": "markdown",
      "source": [
        "Else Statements\n",
        "\n"
      ],
      "metadata": {
        "id": "iw4g09oZNU_o"
      }
    },
    {
      "cell_type": "code",
      "source": [
        "a = 200\n",
        "b = 33\n",
        "if b > a:\n",
        "  print(\"b is greater than a\")\n",
        "elif a == b:\n",
        "  print(\"a and b are equal\")\n",
        "else:\n",
        "  print(\"a is greater than b\")"
      ],
      "metadata": {
        "id": "jgpDkfUJNWXg"
      },
      "execution_count": null,
      "outputs": []
    },
    {
      "cell_type": "markdown",
      "source": [
        "Short Hand If Statement"
      ],
      "metadata": {
        "id": "rfpLpRSgNYGn"
      }
    },
    {
      "cell_type": "code",
      "source": [
        "if a > b:\n",
        "  print(\"a is greater than b\")"
      ],
      "metadata": {
        "id": "meHFZpTfNZ3I"
      },
      "execution_count": null,
      "outputs": []
    },
    {
      "cell_type": "markdown",
      "source": [
        "Short Hand If.. Else Statement"
      ],
      "metadata": {
        "id": "1XwhNDydNbwf"
      }
    },
    {
      "cell_type": "code",
      "source": [
        "a = 2\n",
        "b = 330\n",
        "print(\"A\") if a > b else print(\"B\")"
      ],
      "metadata": {
        "colab": {
          "base_uri": "https://localhost:8080/"
        },
        "id": "ZmHgNZ58NeAA",
        "outputId": "d2576aea-2aad-4592-a93d-187c751fa7fe"
      },
      "execution_count": 13,
      "outputs": [
        {
          "output_type": "stream",
          "name": "stdout",
          "text": [
            "B\n"
          ]
        }
      ]
    },
    {
      "cell_type": "code",
      "source": [
        "a = 200\n",
        "b = 33\n",
        "c = 500\n",
        "if a > b and c > a:\n",
        "  print(\"Both conditions are True\")"
      ],
      "metadata": {
        "id": "bSSEVk2tNpa_"
      },
      "execution_count": null,
      "outputs": []
    },
    {
      "cell_type": "code",
      "source": [
        "a = 200\n",
        "b = 33\n",
        "c = 500\n",
        "if a > b or a > c:\n",
        "  print(\"At least one of the conditions is True\")"
      ],
      "metadata": {
        "id": "FrBujPfQNu13"
      },
      "execution_count": null,
      "outputs": []
    },
    {
      "cell_type": "markdown",
      "source": [
        "Nested if"
      ],
      "metadata": {
        "id": "dEpd7op6NvHX"
      }
    },
    {
      "cell_type": "code",
      "source": [
        "x=41\n",
        "if x>10:\n",
        "  print(\"x is above ten\")\n",
        "if x>20:\n",
        "  print(\"and also above twenty\")\n",
        "if x>30:\n",
        "  print(\"and also above thirty\")\n",
        "if x>40:\n",
        "  print(\"and also above forty\")\n",
        "if x<50:\n",
        "  print(\"but below fifty\")"
      ],
      "metadata": {
        "id": "jbfFluVGNzM3"
      },
      "execution_count": null,
      "outputs": []
    },
    {
      "cell_type": "markdown",
      "source": [
        "Example 1"
      ],
      "metadata": {
        "id": "bDOhPGozN3Pn"
      }
    },
    {
      "cell_type": "code",
      "source": [
        "x= int(input(\"Please enter your age: \"))\n",
        "if x>=18:\n",
        "  print(\"Congratulations! You are qualified to vote!\")\n",
        "else:\n",
        "  print(\"Sorry, you are not qualified to vote!\")"
      ],
      "metadata": {
        "colab": {
          "base_uri": "https://localhost:8080/"
        },
        "id": "29RLB_GIN6wA",
        "outputId": "5cc4753e-9ed9-416b-f1a4-85c6b1510f9a"
      },
      "execution_count": 23,
      "outputs": [
        {
          "output_type": "stream",
          "name": "stdout",
          "text": [
            "Please enter your age: 11\n",
            "Sorry, you are not qualified to vote!\n"
          ]
        }
      ]
    },
    {
      "cell_type": "markdown",
      "source": [
        "Example 2"
      ],
      "metadata": {
        "id": "xaYU6wESPuKH"
      }
    },
    {
      "cell_type": "code",
      "source": [
        "x= int(input(\"Please enter a number: \"))\n",
        "if x>0:\n",
        "  print(\"The number you entered is POSITIVE\")\n",
        "elif x==0:\n",
        "  print(\"The number you entered is ZERO\")\n",
        "elif x<0:\n",
        "  print(\"The number you entered is NEGATIVE\")\n"
      ],
      "metadata": {
        "colab": {
          "base_uri": "https://localhost:8080/"
        },
        "id": "HTpaffTFPu93",
        "outputId": "2633396d-2a21-42b1-ab4a-ac93cb0510b9"
      },
      "execution_count": 28,
      "outputs": [
        {
          "output_type": "stream",
          "name": "stdout",
          "text": [
            "Please enter a number: 1090\n",
            "The number you entered is POSITIVE\n"
          ]
        }
      ]
    },
    {
      "cell_type": "markdown",
      "source": [
        "Example 3"
      ],
      "metadata": {
        "id": "8K0gu9hKQQpv"
      }
    },
    {
      "cell_type": "code",
      "source": [
        "x= int(input(\"Please enter your grade: \"))\n",
        "if x>=70:\n",
        "  print(\"PASSED\")\n",
        "elif x>=65:\n",
        "  print(\"REMEDIAL\")\n",
        "elif 0==x<=64:\n",
        "  print(\"FAILED\")\n",
        "\n",
        "elif x<=0:\n",
        "    print(\"Please enter a Positive Number\")"
      ],
      "metadata": {
        "id": "-R7jbz6sQRj3"
      },
      "execution_count": null,
      "outputs": []
    }
  ]
}