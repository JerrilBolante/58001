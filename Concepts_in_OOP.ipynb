{
  "nbformat": 4,
  "nbformat_minor": 0,
  "metadata": {
    "colab": {
      "provenance": [],
      "authorship_tag": "ABX9TyOCzdhlcruSgQyX0Zia88hc",
      "include_colab_link": true
    },
    "kernelspec": {
      "name": "python3",
      "display_name": "Python 3"
    },
    "language_info": {
      "name": "python"
    }
  },
  "cells": [
    {
      "cell_type": "markdown",
      "metadata": {
        "id": "view-in-github",
        "colab_type": "text"
      },
      "source": [
        "<a href=\"https://colab.research.google.com/github/JerrilBolante/OOP58001/blob/main/Concepts_in_OOP.ipynb\" target=\"_parent\"><img src=\"https://colab.research.google.com/assets/colab-badge.svg\" alt=\"Open In Colab\"/></a>"
      ]
    },
    {
      "cell_type": "code",
      "source": [
        "#Class Constructor\n",
        "class Car:\n",
        "  pass"
      ],
      "metadata": {
        "id": "PPPywotwVkMQ"
      },
      "execution_count": 27,
      "outputs": []
    },
    {
      "cell_type": "code",
      "execution_count": 3,
      "metadata": {
        "colab": {
          "base_uri": "https://localhost:8080/"
        },
        "id": "S_gDMmFrQFmO",
        "outputId": "e9718d9d-ee6c-4820-a502-9fee364f1ced"
      },
      "outputs": [
        {
          "output_type": "stream",
          "name": "stdout",
          "text": [
            "5\n"
          ]
        }
      ],
      "source": [
        "#Create a class and object\n",
        "class MyNumber:\n",
        "  x = 5\n",
        "\n",
        "\n",
        "num1 = MyNumber()\n",
        "print(num1.x)"
      ]
    },
    {
      "cell_type": "code",
      "source": [
        "class person:\n",
        "  def __init__(self,name,age):\n",
        "    self.name = name\n",
        "    self.age = age\n",
        "  def myFunction(self):\n",
        "    print(\"Hello, my name is\",self.name)\n",
        "    person = person(\"Jerril\",19)\n",
        "\n",
        "    person.myFunction()"
      ],
      "metadata": {
        "id": "zEyylKu9Q8nw"
      },
      "execution_count": 28,
      "outputs": []
    },
    {
      "cell_type": "code",
      "source": [
        "#Modify the Object Properties\n",
        "\n",
        "person.name = \"Marco\"\n",
        "print(person.name)\n",
        "person.myFunction()"
      ],
      "metadata": {
        "colab": {
          "base_uri": "https://localhost:8080/"
        },
        "id": "ktQ3M4ctR6Mh",
        "outputId": "5c8f3ae3-0b47-49a3-d33c-755b43fac910"
      },
      "execution_count": 44,
      "outputs": [
        {
          "output_type": "stream",
          "name": "stdout",
          "text": [
            "Marco\n"
          ]
        }
      ]
    },
    {
      "cell_type": "code",
      "source": [
        "#Deletion of Object Properties\n",
        "\n",
        "del person.age\n",
        "person.myFunction()\n",
        "print(person.name)"
      ],
      "metadata": {
        "colab": {
          "base_uri": "https://localhost:8080/",
          "height": 235
        },
        "id": "ZfXBfNMGST8B",
        "outputId": "7b102bc5-3fe7-435b-c56e-5d4b69324f43"
      },
      "execution_count": 42,
      "outputs": [
        {
          "output_type": "error",
          "ename": "AttributeError",
          "evalue": "ignored",
          "traceback": [
            "\u001b[0;31m---------------------------------------------------------------------------\u001b[0m",
            "\u001b[0;31mAttributeError\u001b[0m                            Traceback (most recent call last)",
            "\u001b[0;32m<ipython-input-42-6e47faf4480f>\u001b[0m in \u001b[0;36m<module>\u001b[0;34m\u001b[0m\n\u001b[1;32m      1\u001b[0m \u001b[0;31m#Deletion of Object Properties\u001b[0m\u001b[0;34m\u001b[0m\u001b[0;34m\u001b[0m\u001b[0;34m\u001b[0m\u001b[0m\n\u001b[1;32m      2\u001b[0m \u001b[0;34m\u001b[0m\u001b[0m\n\u001b[0;32m----> 3\u001b[0;31m \u001b[0;32mdel\u001b[0m \u001b[0mperson\u001b[0m\u001b[0;34m.\u001b[0m\u001b[0mage\u001b[0m\u001b[0;34m\u001b[0m\u001b[0;34m\u001b[0m\u001b[0m\n\u001b[0m\u001b[1;32m      4\u001b[0m \u001b[0mperson\u001b[0m\u001b[0;34m.\u001b[0m\u001b[0mmyFunction\u001b[0m\u001b[0;34m(\u001b[0m\u001b[0;34m)\u001b[0m\u001b[0;34m\u001b[0m\u001b[0;34m\u001b[0m\u001b[0m\n\u001b[1;32m      5\u001b[0m \u001b[0mprint\u001b[0m\u001b[0;34m(\u001b[0m\u001b[0mperson\u001b[0m\u001b[0;34m.\u001b[0m\u001b[0mname\u001b[0m\u001b[0;34m)\u001b[0m\u001b[0;34m\u001b[0m\u001b[0;34m\u001b[0m\u001b[0m\n",
            "\u001b[0;31mAttributeError\u001b[0m: age"
          ]
        }
      ]
    },
    {
      "cell_type": "code",
      "source": [
        "#Compute for the area of the Square\n",
        "\n",
        "class Shapes:\n",
        "  def __init__(self,side):      #initial function to name the attributes\n",
        "    self.side = side\n",
        "\n",
        "  def area(self):               #method/formula to compute for the area of a square\n",
        "    return self.side*self.side\n",
        "  \n",
        "  def display(self):           #method to display the area\n",
        "    print(\"The area of the square is\",self.area())\n",
        "\n",
        "square = Shapes(4)\n",
        "square.display()"
      ],
      "metadata": {
        "colab": {
          "base_uri": "https://localhost:8080/"
        },
        "id": "XGCNt7LiSveK",
        "outputId": "e1a38446-352e-444e-87c8-717a3106d903"
      },
      "execution_count": 26,
      "outputs": [
        {
          "output_type": "stream",
          "name": "stdout",
          "text": [
            "The area of the square is 16\n"
          ]
        }
      ]
    },
    {
      "cell_type": "code",
      "source": [
        "#Create a Python program with the following:\n",
        "# Student as class name\n",
        "# Fullname, Student Number, and School as attribute names\n",
        "# Construct a method to display the values of attributes\n",
        "# Use student as object name\n",
        "\n",
        "class Student:\n",
        "  def __init__(self,FullName,StudentNumber,School):   \n",
        "    self.FullName = FullName\n",
        "    self.StudentNumber = StudentNumber\n",
        "    self.School = School\n",
        "\n",
        "  def display(self):          \n",
        "    print(\"Hi I am\",self.FullName,\"with student number:\",self.StudentNumber,\"from\",self.School)\n",
        "\n",
        "student = Student(\"Jerril Mathew J. Bolante\",\"202210052\",\"Adamson University\")\n",
        "student.display()"
      ],
      "metadata": {
        "colab": {
          "base_uri": "https://localhost:8080/"
        },
        "id": "UIQdvAkDVG85",
        "outputId": "0d56318b-3c2d-4af8-ba4a-7822be1573e1"
      },
      "execution_count": 40,
      "outputs": [
        {
          "output_type": "stream",
          "name": "stdout",
          "text": [
            "Hi I am Jerril Mathew J. Bolante with student number: 202210052 from Adamson University\n"
          ]
        }
      ]
    }
  ]
}