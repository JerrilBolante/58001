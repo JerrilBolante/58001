{
  "nbformat": 4,
  "nbformat_minor": 0,
  "metadata": {
    "colab": {
      "provenance": [],
      "authorship_tag": "ABX9TyM11ccua5A7e3XXRLnX4gRP",
      "include_colab_link": true
    },
    "kernelspec": {
      "name": "python3",
      "display_name": "Python 3"
    },
    "language_info": {
      "name": "python"
    }
  },
  "cells": [
    {
      "cell_type": "markdown",
      "metadata": {
        "id": "view-in-github",
        "colab_type": "text"
      },
      "source": [
        "<a href=\"https://colab.research.google.com/github/JerrilBolante/OOP58001/blob/main/Concepts_in_OOP.ipynb\" target=\"_parent\"><img src=\"https://colab.research.google.com/assets/colab-badge.svg\" alt=\"Open In Colab\"/></a>"
      ]
    },
    {
      "cell_type": "code",
      "source": [
        "#Class Constructor\n",
        "class Car:\n",
        "  pass"
      ],
      "metadata": {
        "id": "PPPywotwVkMQ"
      },
      "execution_count": null,
      "outputs": []
    },
    {
      "cell_type": "code",
      "execution_count": null,
      "metadata": {
        "colab": {
          "base_uri": "https://localhost:8080/"
        },
        "id": "S_gDMmFrQFmO",
        "outputId": "e9718d9d-ee6c-4820-a502-9fee364f1ced"
      },
      "outputs": [
        {
          "output_type": "stream",
          "name": "stdout",
          "text": [
            "5\n"
          ]
        }
      ],
      "source": [
        "#Create a class and object\n",
        "class MyNumber:\n",
        "  x = 5\n",
        "\n",
        "\n",
        "num1 = MyNumber()\n",
        "print(num1.x)"
      ]
    },
    {
      "cell_type": "code",
      "source": [
        "class person:\n",
        "  def __init__(self,name,age):\n",
        "    self.name = name\n",
        "    self.age = age\n",
        "  def myFunction(self):\n",
        "    print(\"Hello, my name is\",self.name)\n",
        "  \n",
        "person = person(\"Jerril\",19)\n",
        "person.myFunction()"
      ],
      "metadata": {
        "id": "zEyylKu9Q8nw",
        "colab": {
          "base_uri": "https://localhost:8080/"
        },
        "outputId": "002479aa-2c34-4b8c-eaf1-c22246ec52c8"
      },
      "execution_count": 50,
      "outputs": [
        {
          "output_type": "stream",
          "name": "stdout",
          "text": [
            "Hello, my name is Jerril\n"
          ]
        }
      ]
    },
    {
      "cell_type": "code",
      "source": [
        "#Modify the Object Properties\n",
        "\n",
        "person.name = \"Jerril\"\n",
        "print(person.name)\n",
        "person.myFunction()"
      ],
      "metadata": {
        "colab": {
          "base_uri": "https://localhost:8080/"
        },
        "id": "ktQ3M4ctR6Mh",
        "outputId": "b5b1c2a6-871b-4c13-9cbd-6683a68d4613"
      },
      "execution_count": 47,
      "outputs": [
        {
          "output_type": "stream",
          "name": "stdout",
          "text": [
            "Jerril\n",
            "Hello, my name is Jerril\n"
          ]
        }
      ]
    },
    {
      "cell_type": "code",
      "source": [
        "#Deletion of Object Properties\n",
        "\n",
        "del person.age\n",
        "person.myFunction()\n",
        "print(person.name)"
      ],
      "metadata": {
        "colab": {
          "base_uri": "https://localhost:8080/"
        },
        "id": "ZfXBfNMGST8B",
        "outputId": "7f1ccbc2-e719-4bf1-c8ad-2b95328b4ed4"
      },
      "execution_count": 51,
      "outputs": [
        {
          "output_type": "stream",
          "name": "stdout",
          "text": [
            "Hello, my name is Jerril\n",
            "Jerril\n"
          ]
        }
      ]
    },
    {
      "cell_type": "code",
      "source": [
        "#Compute for the area of the Square\n",
        "\n",
        "class Shapes:\n",
        "  def __init__(self,side):      #initial function to name the attributes\n",
        "    self.side = side\n",
        "\n",
        "  def area(self):               #method/formula to compute for the area of a square\n",
        "    return self.side*self.side\n",
        "  \n",
        "  def display(self):           #method to display the area\n",
        "    print(\"The area of the square is\",self.area())\n",
        "\n",
        "square = Shapes(4)\n",
        "square.display()"
      ],
      "metadata": {
        "colab": {
          "base_uri": "https://localhost:8080/"
        },
        "id": "XGCNt7LiSveK",
        "outputId": "e1a38446-352e-444e-87c8-717a3106d903"
      },
      "execution_count": null,
      "outputs": [
        {
          "output_type": "stream",
          "name": "stdout",
          "text": [
            "The area of the square is 16\n"
          ]
        }
      ]
    },
    {
      "cell_type": "code",
      "source": [
        "#Create a Python program with the following:\n",
        "# Student as class name\n",
        "# Fullname, Student Number, and School as attribute names\n",
        "# Construct a method to display the values of attributes\n",
        "# Use student as object name\n",
        "\n",
        "class Student:\n",
        "  def __init__(self,FullName,StudentNumber,School):   \n",
        "    self.FullName = FullName\n",
        "    self.StudentNumber = StudentNumber\n",
        "    self.School = School\n",
        "\n",
        "  def display(self):          \n",
        "    print(\"Hi I am\",self.FullName,\"with student number:\",self.StudentNumber,\"from\",self.School)\n",
        "\n",
        "student = Student(\"Jerril Mathew J. Bolante\",\"202210052\",\"Adamson University\")\n",
        "student.display()"
      ],
      "metadata": {
        "colab": {
          "base_uri": "https://localhost:8080/"
        },
        "id": "UIQdvAkDVG85",
        "outputId": "0d56318b-3c2d-4af8-ba4a-7822be1573e1"
      },
      "execution_count": null,
      "outputs": [
        {
          "output_type": "stream",
          "name": "stdout",
          "text": [
            "Hi I am Jerril Mathew J. Bolante with student number: 202210052 from Adamson University\n"
          ]
        }
      ]
    }
  ]
}