{
  "nbformat": 4,
  "nbformat_minor": 0,
  "metadata": {
    "colab": {
      "provenance": [],
      "authorship_tag": "ABX9TyNlC3UITVt2TPoNof3LcnIL",
      "include_colab_link": true
    },
    "kernelspec": {
      "name": "python3",
      "display_name": "Python 3"
    },
    "language_info": {
      "name": "python"
    }
  },
  "cells": [
    {
      "cell_type": "markdown",
      "metadata": {
        "id": "view-in-github",
        "colab_type": "text"
      },
      "source": [
        "<a href=\"https://colab.research.google.com/github/JerrilBolante/OOP58001/blob/main/Fundamentals_of_Python.ipynb\" target=\"_parent\"><img src=\"https://colab.research.google.com/assets/colab-badge.svg\" alt=\"Open In Colab\"/></a>"
      ]
    },
    {
      "cell_type": "markdown",
      "source": [
        "Indention"
      ],
      "metadata": {
        "id": "ESy1YATpUAdo"
      }
    },
    {
      "cell_type": "code",
      "execution_count": 1,
      "metadata": {
        "id": "iVXam4TsTvfd"
      },
      "outputs": [],
      "source": [
        "if 5<2:\n",
        "    print(\"Five is greater than two.\")"
      ]
    },
    {
      "cell_type": "markdown",
      "source": [
        "Python Comment"
      ],
      "metadata": {
        "id": "hxpR8tLsUSL4"
      }
    },
    {
      "cell_type": "code",
      "source": [
        "#This is a comment\n",
        "print(\"Hello World\")"
      ],
      "metadata": {
        "colab": {
          "base_uri": "https://localhost:8080/"
        },
        "id": "OZdOq2zMUVU4",
        "outputId": "11a88603-7629-41f8-c9f8-18c1c188535b"
      },
      "execution_count": 4,
      "outputs": [
        {
          "output_type": "stream",
          "name": "stdout",
          "text": [
            "Hello World\n"
          ]
        }
      ]
    },
    {
      "cell_type": "markdown",
      "source": [
        "Python Variable Name"
      ],
      "metadata": {
        "id": "zycgpGakUkrX"
      }
    },
    {
      "cell_type": "code",
      "source": [
        "person_a = \"Jerril\"\n",
        "print (person_a)"
      ],
      "metadata": {
        "colab": {
          "base_uri": "https://localhost:8080/"
        },
        "id": "wSlae6akUqq_",
        "outputId": "731714b4-8a43-44f8-c4f4-50b6fa8abbff"
      },
      "execution_count": 5,
      "outputs": [
        {
          "output_type": "stream",
          "name": "stdout",
          "text": [
            "Jerril\n"
          ]
        }
      ]
    },
    {
      "cell_type": "markdown",
      "source": [
        "Python Variable"
      ],
      "metadata": {
        "id": "PFZgUvpMU0dH"
      }
    },
    {
      "cell_type": "code",
      "source": [
        "#Single variable with multiple values\n",
        "array = [1,2,3]\n",
        "print(array)\n",
        "\n",
        "#Multiple variable with single value\n",
        "\n",
        "a= b= c= \"Jerril\"\n",
        "print(a)\n",
        "print(b)\n",
        "print(c)"
      ],
      "metadata": {
        "colab": {
          "base_uri": "https://localhost:8080/"
        },
        "id": "m6LWhYL-U2do",
        "outputId": "438947b9-0a7b-4b04-e5a4-7b0ef1d35bfc"
      },
      "execution_count": 6,
      "outputs": [
        {
          "output_type": "stream",
          "name": "stdout",
          "text": [
            "[1, 2, 3]\n",
            "Jerril\n",
            "Jerril\n",
            "Jerril\n"
          ]
        }
      ]
    },
    {
      "cell_type": "markdown",
      "source": [
        "Casting"
      ],
      "metadata": {
        "id": "xPvRPPwSVPKP"
      }
    },
    {
      "cell_type": "code",
      "source": [
        "n= int(4)\n",
        "print(n)\n"
      ],
      "metadata": {
        "colab": {
          "base_uri": "https://localhost:8080/"
        },
        "id": "YWXEpXL5VQbO",
        "outputId": "0b2abef8-d0dd-4950-f4f9-47073846156d"
      },
      "execution_count": 7,
      "outputs": [
        {
          "output_type": "stream",
          "name": "stdout",
          "text": [
            "4\n"
          ]
        }
      ]
    },
    {
      "cell_type": "markdown",
      "source": [
        "Type Function"
      ],
      "metadata": {
        "id": "svL5a767VVCw"
      }
    },
    {
      "cell_type": "code",
      "source": [
        "c = \"Jerril\"\n",
        "d = 5.6\n",
        "print(type(c))\n",
        "print(type(d))"
      ],
      "metadata": {
        "colab": {
          "base_uri": "https://localhost:8080/"
        },
        "id": "lgV9KIpFVWcI",
        "outputId": "57aede76-1f2d-46c2-8c63-a459c236e50a"
      },
      "execution_count": 8,
      "outputs": [
        {
          "output_type": "stream",
          "name": "stdout",
          "text": [
            "<class 'str'>\n",
            "<class 'float'>\n"
          ]
        }
      ]
    }
  ]
}