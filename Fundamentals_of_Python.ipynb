{
  "nbformat": 4,
  "nbformat_minor": 0,
  "metadata": {
    "colab": {
      "provenance": [],
      "authorship_tag": "ABX9TyO+IlZ+gQwvgjTI9SC+6Fnl",
      "include_colab_link": true
    },
    "kernelspec": {
      "name": "python3",
      "display_name": "Python 3"
    },
    "language_info": {
      "name": "python"
    }
  },
  "cells": [
    {
      "cell_type": "markdown",
      "metadata": {
        "id": "view-in-github",
        "colab_type": "text"
      },
      "source": [
        "<a href=\"https://colab.research.google.com/github/JerrilBolante/OOP58001/blob/main/Fundamentals_of_Python.ipynb\" target=\"_parent\"><img src=\"https://colab.research.google.com/assets/colab-badge.svg\" alt=\"Open In Colab\"/></a>"
      ]
    },
    {
      "cell_type": "markdown",
      "source": [
        "Indention"
      ],
      "metadata": {
        "id": "ESy1YATpUAdo"
      }
    },
    {
      "cell_type": "code",
      "execution_count": null,
      "metadata": {
        "id": "iVXam4TsTvfd"
      },
      "outputs": [],
      "source": [
        "if 5<2:\n",
        "    print(\"Five is greater than two.\")"
      ]
    },
    {
      "cell_type": "markdown",
      "source": [
        "Python Comment"
      ],
      "metadata": {
        "id": "hxpR8tLsUSL4"
      }
    },
    {
      "cell_type": "code",
      "source": [
        "#This is a comment\n",
        "print(\"Hello World\")"
      ],
      "metadata": {
        "colab": {
          "base_uri": "https://localhost:8080/"
        },
        "id": "OZdOq2zMUVU4",
        "outputId": "11a88603-7629-41f8-c9f8-18c1c188535b"
      },
      "execution_count": null,
      "outputs": [
        {
          "output_type": "stream",
          "name": "stdout",
          "text": [
            "Hello World\n"
          ]
        }
      ]
    },
    {
      "cell_type": "markdown",
      "source": [
        "Python Variable Name"
      ],
      "metadata": {
        "id": "zycgpGakUkrX"
      }
    },
    {
      "cell_type": "code",
      "source": [
        "person_a = \"Jerril\"\n",
        "print (person_a)"
      ],
      "metadata": {
        "colab": {
          "base_uri": "https://localhost:8080/"
        },
        "id": "wSlae6akUqq_",
        "outputId": "731714b4-8a43-44f8-c4f4-50b6fa8abbff"
      },
      "execution_count": null,
      "outputs": [
        {
          "output_type": "stream",
          "name": "stdout",
          "text": [
            "Jerril\n"
          ]
        }
      ]
    },
    {
      "cell_type": "markdown",
      "source": [
        "Python Variable"
      ],
      "metadata": {
        "id": "PFZgUvpMU0dH"
      }
    },
    {
      "cell_type": "code",
      "source": [
        "#Single variable with multiple values\n",
        "array = [1,2,3]\n",
        "print(array)\n",
        "\n",
        "#Multiple variable with single value\n",
        "\n",
        "a= b= c= \"Jerril\"\n",
        "print(a)\n",
        "print(b)\n",
        "print(c)"
      ],
      "metadata": {
        "colab": {
          "base_uri": "https://localhost:8080/"
        },
        "id": "m6LWhYL-U2do",
        "outputId": "438947b9-0a7b-4b04-e5a4-7b0ef1d35bfc"
      },
      "execution_count": null,
      "outputs": [
        {
          "output_type": "stream",
          "name": "stdout",
          "text": [
            "[1, 2, 3]\n",
            "Jerril\n",
            "Jerril\n",
            "Jerril\n"
          ]
        }
      ]
    },
    {
      "cell_type": "markdown",
      "source": [
        "Casting"
      ],
      "metadata": {
        "id": "xPvRPPwSVPKP"
      }
    },
    {
      "cell_type": "code",
      "source": [
        "n= int(4)\n",
        "print(n)\n"
      ],
      "metadata": {
        "colab": {
          "base_uri": "https://localhost:8080/"
        },
        "id": "YWXEpXL5VQbO",
        "outputId": "0b2abef8-d0dd-4950-f4f9-47073846156d"
      },
      "execution_count": null,
      "outputs": [
        {
          "output_type": "stream",
          "name": "stdout",
          "text": [
            "4\n"
          ]
        }
      ]
    },
    {
      "cell_type": "markdown",
      "source": [
        "Type Function"
      ],
      "metadata": {
        "id": "svL5a767VVCw"
      }
    },
    {
      "cell_type": "code",
      "source": [
        "c = \"Jerril\"\n",
        "d = 5.6\n",
        "print(type(c))\n",
        "print(type(d))"
      ],
      "metadata": {
        "colab": {
          "base_uri": "https://localhost:8080/"
        },
        "id": "lgV9KIpFVWcI",
        "outputId": "57aede76-1f2d-46c2-8c63-a459c236e50a"
      },
      "execution_count": null,
      "outputs": [
        {
          "output_type": "stream",
          "name": "stdout",
          "text": [
            "<class 'str'>\n",
            "<class 'float'>\n"
          ]
        }
      ]
    },
    {
      "cell_type": "markdown",
      "source": [
        "“Double quotes” or ‘Single’ quotes\n"
      ],
      "metadata": {
        "id": "JSttLL7GbzhA"
      }
    },
    {
      "cell_type": "code",
      "source": [
        "a = \"Jerril\"\n",
        "a = 'Jerril'"
      ],
      "metadata": {
        "id": "82C8GcPWb0Yf"
      },
      "execution_count": 1,
      "outputs": []
    },
    {
      "cell_type": "markdown",
      "source": [
        "Case sensitive\n"
      ],
      "metadata": {
        "id": "4VWo6Ju0cB6X"
      }
    },
    {
      "cell_type": "code",
      "source": [
        "a = 4 \n",
        "A = \"Jerril\""
      ],
      "metadata": {
        "id": "kztBZrCZcFU4"
      },
      "execution_count": null,
      "outputs": []
    },
    {
      "cell_type": "markdown",
      "source": [
        "Multiple Variables\n"
      ],
      "metadata": {
        "id": "cnZ_1aSuckIR"
      }
    },
    {
      "cell_type": "code",
      "source": [
        "a, b, c = \"one\",\"two\",\"three\"\n",
        "print(a)\n",
        "print(b)\n",
        "print(c)"
      ],
      "metadata": {
        "colab": {
          "base_uri": "https://localhost:8080/"
        },
        "id": "NO2lFQnTcktH",
        "outputId": "2057751e-4993-4653-c9b9-fe82fb763e79"
      },
      "execution_count": null,
      "outputs": [
        {
          "output_type": "stream",
          "name": "stdout",
          "text": [
            "one\n",
            "two\n",
            "three\n"
          ]
        }
      ]
    },
    {
      "cell_type": "markdown",
      "source": [
        "One Value to Multiple Variables\n"
      ],
      "metadata": {
        "id": "082uBYCQc4tn"
      }
    },
    {
      "cell_type": "code",
      "source": [
        "\ta = b = c = \"Jerril\"\n",
        "\tprint(a)\n",
        "\tprint(b)\n",
        "\tprint(c)\n"
      ],
      "metadata": {
        "colab": {
          "base_uri": "https://localhost:8080/"
        },
        "id": "G2nD9DDuc6Je",
        "outputId": "b388dae6-0319-4f4b-ce6a-c62c81bbb9cd"
      },
      "execution_count": null,
      "outputs": [
        {
          "output_type": "stream",
          "name": "stdout",
          "text": [
            "Jerril\n",
            "Jerril\n",
            "Jerril\n"
          ]
        }
      ]
    },
    {
      "cell_type": "markdown",
      "source": [
        "Output Variables\n"
      ],
      "metadata": {
        "id": "1SreLmyddAy-"
      }
    },
    {
      "cell_type": "code",
      "source": [
        "a= \"so cool\"\n",
        "print(\"Jerril is \"+ a)"
      ],
      "metadata": {
        "colab": {
          "base_uri": "https://localhost:8080/"
        },
        "id": "2I2RpUtFdC9-",
        "outputId": "1cfe4f0f-dd78-4801-fc8c-3b8001d9532e"
      },
      "execution_count": null,
      "outputs": [
        {
          "output_type": "stream",
          "name": "stdout",
          "text": [
            "Jerril is so cool\n"
          ]
        }
      ]
    },
    {
      "cell_type": "markdown",
      "source": [
        "Other way:\n"
      ],
      "metadata": {
        "id": "qGjddqe7dWnX"
      }
    },
    {
      "cell_type": "code",
      "source": [
        "a = \"Jerril is \"\n",
        "b = \"so cool\"\n",
        "c = a+b\n",
        "print(c)"
      ],
      "metadata": {
        "colab": {
          "base_uri": "https://localhost:8080/"
        },
        "id": "yGtzBMRjdZGv",
        "outputId": "1544b648-b6dc-4c79-b7e5-a522f6d5601b"
      },
      "execution_count": null,
      "outputs": [
        {
          "output_type": "stream",
          "name": "stdout",
          "text": [
            "Jerril is so cool\n"
          ]
        }
      ]
    },
    {
      "cell_type": "markdown",
      "source": [
        "Arithmetic Operations\n"
      ],
      "metadata": {
        "id": "MqZPf04Sdtb3"
      }
    },
    {
      "cell_type": "code",
      "source": [
        "a = 5\n",
        "b = 3\n",
        "print(a+b)\n",
        "\n",
        "x=5\n",
        "y=3\n",
        "sum=x+y\n",
        "sum"
      ],
      "metadata": {
        "colab": {
          "base_uri": "https://localhost:8080/"
        },
        "id": "voMDTQKZeFxn",
        "outputId": "398aaf95-3d0a-4b93-c166-d5d9d0983fe9"
      },
      "execution_count": null,
      "outputs": [
        {
          "output_type": "stream",
          "name": "stdout",
          "text": [
            "8\n"
          ]
        },
        {
          "output_type": "execute_result",
          "data": {
            "text/plain": [
              "8"
            ]
          },
          "metadata": {},
          "execution_count": 38
        }
      ]
    },
    {
      "cell_type": "markdown",
      "source": [
        "Assignment Operators"
      ],
      "metadata": {
        "id": "8Al9fajvwnZK"
      }
    },
    {
      "cell_type": "code",
      "source": [
        "a,b,c=0,-1,6\n",
        "c%=3\n",
        "c"
      ],
      "metadata": {
        "colab": {
          "base_uri": "https://localhost:8080/"
        },
        "id": "Ev6SpaVRwsdB",
        "outputId": "31748c3d-08f6-4f3f-9098-26813943218b"
      },
      "execution_count": 7,
      "outputs": [
        {
          "output_type": "execute_result",
          "data": {
            "text/plain": [
              "0"
            ]
          },
          "metadata": {},
          "execution_count": 7
        }
      ]
    },
    {
      "cell_type": "markdown",
      "source": [
        "Comparison and Logical Operators"
      ],
      "metadata": {
        "id": "3thwL860w6m5"
      }
    },
    {
      "cell_type": "code",
      "source": [
        "a,b,c=0,-1,6\n",
        "a>b and c>b"
      ],
      "metadata": {
        "colab": {
          "base_uri": "https://localhost:8080/"
        },
        "id": "ikpUL-BWxCfL",
        "outputId": "cdfc2636-1dc6-41ed-f75b-050a47103453"
      },
      "execution_count": 3,
      "outputs": [
        {
          "output_type": "execute_result",
          "data": {
            "text/plain": [
              "True"
            ]
          },
          "metadata": {},
          "execution_count": 3
        }
      ]
    },
    {
      "cell_type": "markdown",
      "source": [
        "Identity Operators"
      ],
      "metadata": {
        "id": "sa6Pb9BGxVJQ"
      }
    },
    {
      "cell_type": "code",
      "source": [
        "a,b,c=0,-1,5\n",
        "a is c "
      ],
      "metadata": {
        "colab": {
          "base_uri": "https://localhost:8080/"
        },
        "id": "KrN4wwhLx2Am",
        "outputId": "e1bca7ea-3fce-4703-bba4-8ec5c3015378"
      },
      "execution_count": 5,
      "outputs": [
        {
          "output_type": "execute_result",
          "data": {
            "text/plain": [
              "False"
            ]
          },
          "metadata": {},
          "execution_count": 5
        }
      ]
    },
    {
      "cell_type": "markdown",
      "source": [
        "Bitwise Operators"
      ],
      "metadata": {
        "id": "RxE_TWR4x_-6"
      }
    }
  ]
}