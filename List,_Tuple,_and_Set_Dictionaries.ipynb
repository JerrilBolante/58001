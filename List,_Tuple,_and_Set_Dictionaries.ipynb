{
  "nbformat": 4,
  "nbformat_minor": 0,
  "metadata": {
    "colab": {
      "provenance": [],
      "authorship_tag": "ABX9TyMfjTR10han4ZhPefN7O2XI",
      "include_colab_link": true
    },
    "kernelspec": {
      "name": "python3",
      "display_name": "Python 3"
    },
    "language_info": {
      "name": "python"
    }
  },
  "cells": [
    {
      "cell_type": "markdown",
      "metadata": {
        "id": "view-in-github",
        "colab_type": "text"
      },
      "source": [
        "<a href=\"https://colab.research.google.com/github/JerrilBolante/OOP58001/blob/main/List%2C_Tuple%2C_and_Set_Dictionaries.ipynb\" target=\"_parent\"><img src=\"https://colab.research.google.com/assets/colab-badge.svg\" alt=\"Open In Colab\"/></a>"
      ]
    },
    {
      "cell_type": "markdown",
      "source": [
        "Functions"
      ],
      "metadata": {
        "id": "9Aa9J83jKycU"
      }
    },
    {
      "cell_type": "code",
      "execution_count": 9,
      "metadata": {
        "colab": {
          "base_uri": "https://localhost:8080/"
        },
        "id": "-EBPEtYhKwmN",
        "outputId": "78db4eca-458c-4a15-d92f-9978b46c67f3"
      },
      "outputs": [
        {
          "output_type": "execute_result",
          "data": {
            "text/plain": [
              "50"
            ]
          },
          "metadata": {},
          "execution_count": 9
        }
      ],
      "source": [
        "class shapes:\n",
        "  def __init__(self, length, width):\n",
        "    self.length = length\n",
        "    self.width = width\n",
        "  def area(self):\n",
        "    return self.length * self.width\n",
        "rectangle= shapes (10,5)\n",
        "rectangle.area()\n",
        "#rectangle    "
      ]
    },
    {
      "cell_type": "code",
      "source": [
        "pow (10,2)\n",
        "array= ['apple', 'banana', 'orange']\n",
        "array.insert (0, 'cherry')\n",
        "print(array)"
      ],
      "metadata": {
        "colab": {
          "base_uri": "https://localhost:8080/"
        },
        "id": "0MYHSvrWOyRC",
        "outputId": "29276238-7700-4d8c-bb6f-51a66b96862f"
      },
      "execution_count": 11,
      "outputs": [
        {
          "output_type": "stream",
          "name": "stdout",
          "text": [
            "['cherry', 'apple', 'banana', 'orange']\n"
          ]
        }
      ]
    },
    {
      "cell_type": "code",
      "source": [
        "class shapes:\n",
        "  def __init__(self, side):\n",
        "    self.side = side\n",
        "  def arearec (self):\n",
        "      return self.length * self.width\n",
        "  def areasqr (self):\n",
        "      return self.side ** 2\n",
        "square = shapes (5)\n",
        "square.areasqr()\n"
      ],
      "metadata": {
        "colab": {
          "base_uri": "https://localhost:8080/"
        },
        "id": "H_Fi_41uPH-Y",
        "outputId": "6c575ca3-8127-43b4-f1e4-2cbe42552d74"
      },
      "execution_count": 29,
      "outputs": [
        {
          "output_type": "execute_result",
          "data": {
            "text/plain": [
              "25"
            ]
          },
          "metadata": {},
          "execution_count": 29
        }
      ]
    },
    {
      "cell_type": "code",
      "source": [
        "#Create your own function that will show your fullname and age\n",
        "#Use Person as class name\n",
        "\n",
        "class Person:\n",
        "    def __init__(self):\n",
        "        self.name = \"Jerril Bolante\"\n",
        "        self.age = \"19\"\n",
        "    def nameage(self):\n",
        "        return \"I am \" + self.name + \" and I am \" +  self.age + \" years old.\"\n",
        "Person = Person()\n",
        "Person.nameage()\n"
      ],
      "metadata": {
        "colab": {
          "base_uri": "https://localhost:8080/",
          "height": 35
        },
        "id": "eZgG8IWiPxKK",
        "outputId": "49aa82aa-27c6-4ef1-a5d6-da37311c5d80"
      },
      "execution_count": 49,
      "outputs": [
        {
          "output_type": "execute_result",
          "data": {
            "text/plain": [
              "'I am Jerril Bolante and I am 19 years old.'"
            ],
            "application/vnd.google.colaboratory.intrinsic+json": {
              "type": "string"
            }
          },
          "metadata": {},
          "execution_count": 49
        }
      ]
    },
    {
      "cell_type": "markdown",
      "source": [
        "List"
      ],
      "metadata": {
        "id": "Y33uFv0OUvi9"
      }
    },
    {
      "cell_type": "code",
      "source": [
        "pi = 3.14159\n",
        "varlist = ['abc', 1, 'def', 2]\n",
        "print(varlist[0])\n",
        "\n",
        "varlist.append('ghi')\n",
        "print(varlist)\n",
        "varlist.remove(2)\n",
        "print(varlist)\n",
        "varlist.insert(3, 10000)\n",
        "print(varlist)\n"
      ],
      "metadata": {
        "colab": {
          "base_uri": "https://localhost:8080/"
        },
        "id": "3iwyWPwKUOjN",
        "outputId": "37126b96-5357-46d0-d31a-f311c0ab2c72"
      },
      "execution_count": 58,
      "outputs": [
        {
          "output_type": "stream",
          "name": "stdout",
          "text": [
            "abc\n",
            "['abc', 1, 'def', 2, 'ghi']\n",
            "['abc', 1, 'def', 'ghi']\n",
            "['abc', 1, 'def', 10000, 'ghi']\n"
          ]
        }
      ]
    },
    {
      "cell_type": "markdown",
      "source": [
        "Dictionaries"
      ],
      "metadata": {
        "id": "IAYZPowCWIh0"
      }
    },
    {
      "cell_type": "code",
      "source": [
        "students = {\n",
        "      1:\"Jerril\",\n",
        "      2:\"Lorenzo\",\n",
        "      3:\"Samantha\",\n",
        "      4:\"Kean\",\n",
        "      5:\"Jhihmh\",\n",
        "      6:\"Khonhrhadh\",\n",
        "\n",
        "\n",
        "}\n",
        "print(students)"
      ],
      "metadata": {
        "colab": {
          "base_uri": "https://localhost:8080/"
        },
        "id": "US0LkqlKWJw0",
        "outputId": "d267b453-7fc2-4701-ca1d-3d2f869138fd"
      },
      "execution_count": 61,
      "outputs": [
        {
          "output_type": "stream",
          "name": "stdout",
          "text": [
            "{1: 'Jerril', 2: 'Lorenzo', 3: 'Samantha', 4: 'Kean', 5: 'Jhihmh', 6: 'Khonhrhadh'}\n"
          ]
        }
      ]
    }
  ]
}