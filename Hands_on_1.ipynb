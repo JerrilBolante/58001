{
  "nbformat": 4,
  "nbformat_minor": 0,
  "metadata": {
    "colab": {
      "provenance": [],
      "authorship_tag": "ABX9TyOBqZUIAIzQCBPmFk4Fdf+Z",
      "include_colab_link": true
    },
    "kernelspec": {
      "name": "python3",
      "display_name": "Python 3"
    },
    "language_info": {
      "name": "python"
    }
  },
  "cells": [
    {
      "cell_type": "markdown",
      "metadata": {
        "id": "view-in-github",
        "colab_type": "text"
      },
      "source": [
        "<a href=\"https://colab.research.google.com/github/JerrilBolante/OOP58001/blob/main/Hands_on_1.ipynb\" target=\"_parent\"><img src=\"https://colab.research.google.com/assets/colab-badge.svg\" alt=\"Open In Colab\"/></a>"
      ]
    },
    {
      "cell_type": "code",
      "execution_count": 42,
      "metadata": {
        "colab": {
          "base_uri": "https://localhost:8080/"
        },
        "id": "CkEWcoSpaCpa",
        "outputId": "b6d6b466-51fa-4424-b577-2334bece3c99"
      },
      "outputs": [
        {
          "output_type": "stream",
          "name": "stdout",
          "text": [
            "The Student named student1 has a term grade of 88.33\n",
            "The Student named student2 has a term grade of 70.0\n",
            "The Student named student3 has a term grade of 94.0\n"
          ]
        }
      ],
      "source": [
        "class Person:\n",
        "\n",
        "  def __init__(self, std, pre, mid, fin):\n",
        "    self.__std = std\n",
        "    self.__pre = pre\n",
        "    self.__mid = mid\n",
        "    self.__fin = fin\n",
        "    self.__gradeavg = round (self.Grade(), 2)\n",
        "  def display(self):\n",
        "    print(f\"The Student named\", self.__std, \"has a term grade of\",self.__gradeavg)\n",
        "  def Grade(self):\n",
        "    gradeavg=(self.__pre + self.__mid + self.__fin)/3\n",
        "    return gradeavg\n",
        "\n",
        "class Std1(Person):\n",
        "  pass\n",
        "class Std2(Person):\n",
        "  pass\n",
        "class Std3(Person):\n",
        "  pass\n",
        "\n",
        "\n",
        "\n",
        "std1 = Std1(\"student1\", 95, 76, 94)\n",
        "std1.display()\n",
        "std1 = Std2(\"student2\", 65, 65, 80)\n",
        "std1.display()\n",
        "std1 = Std3(\"student3\", 90, 94, 98)\n",
        "std1.display()\n"
      ]
    }
  ]
}