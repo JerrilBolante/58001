{
  "nbformat": 4,
  "nbformat_minor": 0,
  "metadata": {
    "colab": {
      "provenance": [],
      "authorship_tag": "ABX9TyMrygJ/bUB96bbyGNfxhY4a",
      "include_colab_link": true
    },
    "kernelspec": {
      "name": "python3",
      "display_name": "Python 3"
    },
    "language_info": {
      "name": "python"
    }
  },
  "cells": [
    {
      "cell_type": "markdown",
      "metadata": {
        "id": "view-in-github",
        "colab_type": "text"
      },
      "source": [
        "<a href=\"https://colab.research.google.com/github/JerrilBolante/OOP58001/blob/main/OOP_Concepts_Part_2.ipynb\" target=\"_parent\"><img src=\"https://colab.research.google.com/assets/colab-badge.svg\" alt=\"Open In Colab\"/></a>"
      ]
    },
    {
      "cell_type": "code",
      "source": [
        "class Birds:\n",
        "  def __init__(self,bird_name):\n",
        "    self.bird_name = bird_name\n",
        "\n",
        "  def flying_birds(self):\n",
        "    print(f\"{self.bird_name}flies above clouds\")\n",
        "  def non_flying_birds(self):\n",
        "    print(f\"{self.bird_name}is the national bird of the Philippines\")\n",
        " "
      ],
      "metadata": {
        "id": "OMNN_f2fXR4h"
      },
      "execution_count": 6,
      "outputs": []
    },
    {
      "cell_type": "code",
      "execution_count": 7,
      "metadata": {
        "colab": {
          "base_uri": "https://localhost:8080/"
        },
        "id": "Rna4f9BdXIO9",
        "outputId": "eae4c57d-1732-4b44-b424-beb165f282bd"
      },
      "outputs": [
        {
          "output_type": "stream",
          "name": "stdout",
          "text": [
            "Griffon Vultureflies above clouds\n",
            "Common Craneflies above clouds\n",
            "Emuis the national bird of the Philippines\n"
          ]
        }
      ],
      "source": [
        "vulture = Birds (\"Griffon Vulture\")\n",
        "crane = Birds (\"Common Crane\")\n",
        "emu = Birds(\"Emu\")\n",
        "\n",
        "vulture.flying_birds()\n",
        "crane.flying_birds()\n",
        "emu.non_flying_birds()"
      ]
    },
    {
      "cell_type": "code",
      "source": [
        "class foo:\n",
        "  def __init__(self, a, b):\n",
        "    self.a = a\n",
        "    self.b = b\n",
        "  def add(self):\n",
        "    return self.a + self.b\n",
        "\n",
        "foo_object = foo(3,4)\n",
        "foo_object.add()"
      ],
      "metadata": {
        "colab": {
          "base_uri": "https://localhost:8080/"
        },
        "id": "wezrzeNkZayR",
        "outputId": "9c36be85-4bbf-485f-8598-5308cbb8159b"
      },
      "execution_count": 10,
      "outputs": [
        {
          "output_type": "execute_result",
          "data": {
            "text/plain": [
              "7"
            ]
          },
          "metadata": {},
          "execution_count": 10
        }
      ]
    },
    {
      "cell_type": "code",
      "source": [
        "class foo:\n",
        "  def __init__(self, a, b):\n",
        "    self.__a = a\n",
        "    self.__b = b\n",
        "  def add(self):\n",
        "    return self.__a + self.__b\n",
        "\n",
        "foo_object = foo(3,4)\n",
        "foo_object.add()\n",
        "foo_object.a = 5\n",
        "foo_object.add()"
      ],
      "metadata": {
        "colab": {
          "base_uri": "https://localhost:8080/"
        },
        "outputId": "5d8b08ad-9961-4393-dc66-64a7620d888e",
        "id": "uRi02-5Xa8tA"
      },
      "execution_count": 14,
      "outputs": [
        {
          "output_type": "execute_result",
          "data": {
            "text/plain": [
              "7"
            ]
          },
          "metadata": {},
          "execution_count": 14
        }
      ]
    },
    {
      "cell_type": "code",
      "source": [
        "class Counter:\n",
        "  def __init__(self):\n",
        "    self.current = 0\n",
        "\n",
        "  def increment(self):\n",
        "    self.current += 1\n",
        "\n",
        "  def value(self):\n",
        "    return self.current\n",
        "\n",
        "  def reset(self):\n",
        "    self.current = 0\n",
        "\n"
      ],
      "metadata": {
        "id": "BrW1kgjzby1X"
      },
      "execution_count": 16,
      "outputs": []
    },
    {
      "cell_type": "code",
      "source": [
        "# Inheritance\n",
        "\n",
        "class Person:\n",
        "  def __init__(self,name,birthdate):\n",
        "    self.name = name\n",
        "    self.birthdate = birthdate\n",
        "  def display(self):\n",
        "    print(f\"My name is\",self.name)\n",
        "    print(f\"My birthdate is\",self.birthdate)\n",
        "class Student(Person):\n",
        "  pass\n",
        "class Teacher(Person):\n",
        "  pass\n",
        "student = Student(\"Maria\", \"January 3, 1984\")\n",
        "student.display()\n",
        "teacher = Teacher(\"Ana\", \"February 14, 1990\")\n",
        "teacher.display()"
      ],
      "metadata": {
        "colab": {
          "base_uri": "https://localhost:8080/"
        },
        "id": "-nf4gFTae-vc",
        "outputId": "16f1a2b0-1f57-468f-97b5-78d7d0121f39"
      },
      "execution_count": 21,
      "outputs": [
        {
          "output_type": "stream",
          "name": "stdout",
          "text": [
            "My name is Maria\n",
            "My birthdate is January 3, 1984\n",
            "My name is Ana\n",
            "My birthdate is February 14, 1990\n"
          ]
        }
      ]
    },
    {
      "cell_type": "code",
      "source": [
        "# create a class name Shapes (5 shapes)\n",
        "# attributes sides\n",
        "# create a function/method that displays the no. of sides of each shape\n",
        "# apply inheritance and encapsulation\n",
        "\n",
        "class Shapes:\n",
        "  def __init__(self, shape, sides):\n",
        "    self.__shape = shape\n",
        "    self.__sides = sides\n",
        "  def display(self):\n",
        "    print(f\"The shape\",self.__shape,\"has\",self.__sides,\"sides.\")\n",
        "\n",
        "class Triangle(Shapes):\n",
        "  pass\n",
        "class Square(Shapes):\n",
        "  pass\n",
        "class Pentagon(Shapes):\n",
        "  pass\n",
        "class Hexagon(Shapes):\n",
        "  pass\n",
        "class Heptagon(Shapes):\n",
        "  pass\n",
        "\n",
        "triangle = Triangle(\"Triangle\", \"3\")\n",
        "triangle.display()\n",
        "square = Square(\"Square\", \"4\")\n",
        "square.display()\n",
        "pentagon = Pentagon(\"Pentagon\", \"5\")\n",
        "pentagon.display()\n",
        "hexagon = Hexagon(\"Hexagon\", \"6\")\n",
        "hexagon.display()\n",
        "heptagon = Heptagon(\"Heptagon\", \"7\")\n",
        "heptagon.display()\n"
      ],
      "metadata": {
        "colab": {
          "base_uri": "https://localhost:8080/"
        },
        "id": "lQ9LSWdEg6KA",
        "outputId": "48d6994d-2131-4229-a75f-a12d0ef483df"
      },
      "execution_count": 26,
      "outputs": [
        {
          "output_type": "stream",
          "name": "stdout",
          "text": [
            "The shape Triangle has 3 sides.\n",
            "The shape Square has 4 sides.\n",
            "The shape Pentagon has 5 sides.\n",
            "The shape Hexagon has 6 sides.\n",
            "The shape Heptagon has 7 sides.\n"
          ]
        }
      ]
    }
  ]
}