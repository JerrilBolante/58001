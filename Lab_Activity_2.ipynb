{
  "nbformat": 4,
  "nbformat_minor": 0,
  "metadata": {
    "colab": {
      "provenance": [],
      "authorship_tag": "ABX9TyNZlOh2TvAWkS282RTlpfJ4",
      "include_colab_link": true
    },
    "kernelspec": {
      "name": "python3",
      "display_name": "Python 3"
    },
    "language_info": {
      "name": "python"
    }
  },
  "cells": [
    {
      "cell_type": "markdown",
      "metadata": {
        "id": "view-in-github",
        "colab_type": "text"
      },
      "source": [
        "<a href=\"https://colab.research.google.com/github/JerrilBolante/OOP58001/blob/main/Lab_Activity_2.ipynb\" target=\"_parent\"><img src=\"https://colab.research.google.com/assets/colab-badge.svg\" alt=\"Open In Colab\"/></a>"
      ]
    },
    {
      "cell_type": "code",
      "execution_count": 5,
      "metadata": {
        "colab": {
          "base_uri": "https://localhost:8080/"
        },
        "id": "oAu_4VhHUSLa",
        "outputId": "8f15d453-dedf-4c77-b8c5-dba4b816e2f5"
      },
      "outputs": [
        {
          "output_type": "stream",
          "name": "stdout",
          "text": [
            "Type the radius here: 10\n",
            "Perimeter:  62.8318\n",
            "Area:  314.159\n"
          ]
        }
      ],
      "source": [
        "class Circle:\n",
        "  def __init__(self, radius):\n",
        "    self.radius = radius\n",
        "    self.pi = 3.14159\n",
        "  def Perimeter(self):\n",
        "    return 2 * self.pi * self.radius\n",
        "  def Area(self):\n",
        "    return self.pi * self.radius ** 2\n",
        "\n",
        "  def Display(self):\n",
        "    print(\"Perimeter: \", self.Perimeter())\n",
        "    print(\"Area: \", self.Area())\n",
        "\n",
        "circleRadius = float(input(\"Type the radius here: \"))\n",
        "circle = Circle(circleRadius)\n",
        "circle.Display()"
      ]
    }
  ]
}